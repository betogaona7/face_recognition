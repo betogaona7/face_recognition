{
  "nbformat": 4,
  "nbformat_minor": 0,
  "metadata": {
    "colab": {
      "name": "Recognition1.ipynb",
      "version": "0.3.2",
      "provenance": [],
      "collapsed_sections": []
    },
    "kernelspec": {
      "name": "python3",
      "display_name": "Python 3"
    },
    "accelerator": "GPU"
  },
  "cells": [
    {
      "cell_type": "markdown",
      "metadata": {
        "id": "QciLtExj3avy",
        "colab_type": "text"
      },
      "source": [
        "## Connect with Google Drive"
      ]
    },
    {
      "cell_type": "code",
      "metadata": {
        "id": "lbadsvjg3Uuu",
        "colab_type": "code",
        "colab": {}
      },
      "source": [
        "from google.colab import drive \n",
        "drive.mount(\"/betogaona7\")"
      ],
      "execution_count": 0,
      "outputs": []
    },
    {
      "cell_type": "code",
      "metadata": {
        "id": "BDar1IXB3j6i",
        "colab_type": "code",
        "colab": {
          "base_uri": "https://localhost:8080/",
          "height": 34
        },
        "outputId": "de788ae2-f869-41e5-a553-e35f8cc85b8b"
      },
      "source": [
        "%cd ./../betogaona7/My Drive/app/Recognition"
      ],
      "execution_count": 2,
      "outputs": [
        {
          "output_type": "stream",
          "text": [
            "/betogaona7/My Drive/app/Recognition\n"
          ],
          "name": "stdout"
        }
      ]
    },
    {
      "cell_type": "code",
      "metadata": {
        "id": "l9xbjpe0CETn",
        "colab_type": "code",
        "outputId": "a2309bce-cfd1-45e8-f187-f83b1efd833d",
        "colab": {
          "base_uri": "https://localhost:8080/",
          "height": 34
        }
      },
      "source": [
        "%pwd"
      ],
      "execution_count": 1,
      "outputs": [
        {
          "output_type": "execute_result",
          "data": {
            "text/plain": [
              "'/content'"
            ]
          },
          "metadata": {
            "tags": []
          },
          "execution_count": 1
        }
      ]
    },
    {
      "cell_type": "markdown",
      "metadata": {
        "id": "7WDx_ZPK4xri",
        "colab_type": "text"
      },
      "source": [
        "## Imports "
      ]
    },
    {
      "cell_type": "code",
      "metadata": {
        "id": "g8rduV3Q4rNx",
        "colab_type": "code",
        "colab": {}
      },
      "source": [
        "import os\n",
        "import random\n",
        "from PIL import Image\n",
        "import numpy as np\n",
        "import matplotlib.pyplot as plt\n",
        "\n",
        "import torch\n",
        "import torchvision\n",
        "from torch.utils.data import Dataset\n",
        "import torchvision.transforms as transforms\n",
        "\n",
        "\n",
        "import torch.nn as nn\n",
        "import torch.nn.functional as F\n",
        "from torch import optim"
      ],
      "execution_count": 0,
      "outputs": []
    },
    {
      "cell_type": "markdown",
      "metadata": {
        "id": "9WVwKDunLq0o",
        "colab_type": "text"
      },
      "source": [
        "## Build dataset"
      ]
    },
    {
      "cell_type": "code",
      "metadata": {
        "id": "Cey3S2RRL1px",
        "colab_type": "code",
        "outputId": "2bea613b-70ea-4eb3-e49f-141e2a3486d6",
        "colab": {
          "base_uri": "https://localhost:8080/",
          "height": 34
        }
      },
      "source": [
        "def imgs_with_id(src):\n",
        "  data = []\n",
        "  imgs = 0\n",
        "  for path, subdir, files in os.walk(src):\n",
        "    for file in files:\n",
        "      if int(path[-2:]) < 38: # and path[10:16] != \"_S4_C2\":\n",
        "        if file[-3:] == \"pgm\":\n",
        "          data.append((os.path.join(path, file), path[-2:]))\n",
        "          imgs += 1\n",
        "  return data, imgs \n",
        "\n",
        "#data, total = imgs_with_id(\"datacp/\")\n",
        "data, total = imgs_with_id(\"./data\")\n",
        "print(\"Example: img \", data[0][0], \" subject id \", data[0][1], \" total imgs \", total)"
      ],
      "execution_count": 120,
      "outputs": [
        {
          "output_type": "stream",
          "text": [
            "Example: img  ./data/s10/7.pgm  subject id  10  total imgs  370\n"
          ],
          "name": "stdout"
        }
      ]
    },
    {
      "cell_type": "code",
      "metadata": {
        "id": "4LysHdzb450N",
        "colab_type": "code",
        "colab": {}
      },
      "source": [
        "class ChokePoint(Dataset):\n",
        "  def __init__(self, data, transform=None):\n",
        "    self.data = data\n",
        "    self.transform = transform\n",
        "  \n",
        "  def __getitem__(self, index):\n",
        "    record1 = random.choice(self.data)\n",
        "    same_class = random.randint(0,1)\n",
        "    if same_class:\n",
        "      while True:\n",
        "        record2 = random.choice(self.data)\n",
        "        if record1[1] == record2[1]:\n",
        "          label = 1\n",
        "          break\n",
        "    else:\n",
        "      while True:\n",
        "        record2 = random.choice(self.data)\n",
        "        if record1[1] != record2[1]:\n",
        "          label = 0\n",
        "          break\n",
        "    \n",
        "    img1 = Image.open(record1[0])\n",
        "    img2 = Image.open(record2[0])\n",
        "    \n",
        "    # Convert to grayscale \n",
        "    img1 = img1.convert(\"L\")\n",
        "    img2 = img2.convert(\"L\")   \n",
        "    \n",
        "    # Convert to tensor\n",
        "    label = torch.from_numpy(np.array([label], dtype=np.float32))\n",
        "    \n",
        "    if self.transform is not None:\n",
        "      img1 = self.transform(img1)\n",
        "      img2 = self.transform(img2)\n",
        "    \n",
        "    return img1, img2, label\n",
        "  \n",
        "  def __len__(self):\n",
        "    return len(self.data)"
      ],
      "execution_count": 0,
      "outputs": []
    },
    {
      "cell_type": "code",
      "metadata": {
        "id": "pBuQiXCwG3kw",
        "colab_type": "code",
        "colab": {}
      },
      "source": [
        "dataset = ChokePoint(data, transform=transforms.Compose([transforms.Resize((105,105)),\n",
        "                                                         transforms.RandomHorizontalFlip(),\n",
        "                                                         transforms.ToTensor()]))\n",
        "\n",
        "trainloader = torch.utils.data.DataLoader(dataset, shuffle=True, num_workers=8, batch_size=32)"
      ],
      "execution_count": 0,
      "outputs": []
    },
    {
      "cell_type": "code",
      "metadata": {
        "id": "Y4FeJGqQKPHh",
        "colab_type": "code",
        "outputId": "b638c433-1bd5-4c0f-a9d2-fec4bd249360",
        "colab": {
          "base_uri": "https://localhost:8080/",
          "height": 34
        }
      },
      "source": [
        "batch_example = next(iter(trainloader))\n",
        "print(\"img1 \", batch_example[0].shape, \" img2 \", batch_example[1].shape, \" label\", batch_example[2].shape)"
      ],
      "execution_count": 123,
      "outputs": [
        {
          "output_type": "stream",
          "text": [
            "img1  torch.Size([32, 1, 105, 105])  img2  torch.Size([32, 1, 105, 105])  label torch.Size([32, 1])\n"
          ],
          "name": "stdout"
        }
      ]
    },
    {
      "cell_type": "code",
      "metadata": {
        "id": "br17AS8hXSEp",
        "colab_type": "code",
        "outputId": "80ec5f1d-c560-43a1-b927-0d85d9b9452a",
        "colab": {
          "base_uri": "https://localhost:8080/",
          "height": 321
        }
      },
      "source": [
        "def plot_imgs(images = [], titles = [], figsize = (10,10)):\n",
        "  size = len(images)\n",
        "  fig = plt.figure(figsize=figsize)\n",
        "  i = 1\n",
        "  for image in images:\n",
        "    ax = fig.add_subplot(1,size,i)\n",
        "    ax.set_xticks([])\n",
        "    ax.set_yticks([])\n",
        "    ax.set_title(titles[i-1])\n",
        "    ax.imshow(image)\n",
        "    i += 1\n",
        "  return None\n",
        "\n",
        "n_batch = 8\n",
        "\n",
        "print(\"Label: \", batch_example[2][n_batch])\n",
        "plot_imgs([batch_example[0][n_batch].reshape(105, 105), \n",
        "          batch_example[1][n_batch].reshape(105, 105)], [\"Left image\", \"Right image\"])\n"
      ],
      "execution_count": 126,
      "outputs": [
        {
          "output_type": "stream",
          "text": [
            "Label:  tensor([0.])\n"
          ],
          "name": "stdout"
        },
        {
          "output_type": "display_data",
          "data": {
            "image/png": "[encoded data removed]",
            "text/plain": [
              "<Figure size 720x720 with 2 Axes>"
            ]
          },
          "metadata": {
            "tags": []
          }
        }
      ]
    },
    {
      "cell_type": "markdown",
      "metadata": {
        "id": "IN7-mh-FaZ9d",
        "colab_type": "text"
      },
      "source": [
        "## Build model"
      ]
    },
    {
      "cell_type": "code",
      "metadata": {
        "id": "Ck9JRtELOArV",
        "colab_type": "code",
        "colab": {}
      },
      "source": [
        "class siameseCNN(nn.Module):\n",
        "  def __init__(self):\n",
        "    super().__init__() \n",
        "    \n",
        "    self.CNN = nn.Sequential(nn.Conv2d(1, 64, 10),  \n",
        "                             nn.ReLU(inplace=True),\n",
        "                             nn.MaxPool2d(2,2), \n",
        "                             \n",
        "                             nn.Conv2d(64, 128, 7),\n",
        "                             nn.ReLU(inplace=True),\n",
        "                             nn.MaxPool2d(2,2), \n",
        "                             \n",
        "                             nn.Conv2d(128, 128, 4),\n",
        "                             nn.ReLU(inplace=True),\n",
        "                             nn.MaxPool2d(2,2), \n",
        "                             \n",
        "                             nn.Conv2d(128, 256, 4),\n",
        "                             nn.ReLU(inplace=True))\n",
        "    \n",
        "    self.FC =  nn.Sequential(nn.Linear(6*6*256, 128),\n",
        "                             nn.Sigmoid(),\n",
        "                             \n",
        "                             nn.Linear(128, 1)) \n",
        "                            \n",
        "  \n",
        "  def forward_img(self, x):\n",
        "    x = self.CNN(x)\n",
        "    x = x.view(x.size()[0], -1)\n",
        "    x = self.FC(x)\n",
        "    \n",
        "    return x\n",
        "    \n",
        "  def forward(self, x1, x2):\n",
        "    featvect1 = self.forward_img(x1)\n",
        "    featvect2 = self.forward_img(x2)\n",
        "    return featvect1, featvect2"
      ],
      "execution_count": 0,
      "outputs": []
    },
    {
      "cell_type": "markdown",
      "metadata": {
        "id": "R6Crqh3WkAiZ",
        "colab_type": "text"
      },
      "source": [
        "## Define loss "
      ]
    },
    {
      "cell_type": "code",
      "metadata": {
        "id": "MDyKwMTojua6",
        "colab_type": "code",
        "colab": {}
      },
      "source": [
        "def constrastiveLoss(x1, x2, label):\n",
        "  euclidean_distance = F.pairwise_distance(x1, x2)\n",
        "  loss = torch.mean((1-label) * torch.pow(euclidean_distance, 2) + \n",
        "                      (label) * torch.pow(torch.clamp(2.- euclidean_distance, min=0), 2))\n",
        "  return loss"
      ],
      "execution_count": 0,
      "outputs": []
    },
    {
      "cell_type": "markdown",
      "metadata": {
        "id": "vb3Px5zflr8p",
        "colab_type": "text"
      },
      "source": [
        "## Train network"
      ]
    },
    {
      "cell_type": "code",
      "metadata": {
        "id": "O6gSvIwUlnXz",
        "colab_type": "code",
        "outputId": "bda9da28-0cb4-45cb-8c29-12d8c60f5d5b",
        "colab": {
          "base_uri": "https://localhost:8080/",
          "height": 34
        }
      },
      "source": [
        "device = torch.device(\"cuda:0\" if torch.cuda.is_available() else \"cpu\")\n",
        "print(\"Training in\", device)\n",
        "\n",
        "model = siameseCNN()\n",
        "model.to(device)\n",
        "\n",
        "optimizer = optim.Adam(model.parameters(), lr=1e-5)"
      ],
      "execution_count": 180,
      "outputs": [
        {
          "output_type": "stream",
          "text": [
            "Training in cuda:0\n"
          ],
          "name": "stdout"
        }
      ]
    },
    {
      "cell_type": "code",
      "metadata": {
        "id": "V-494h2Dl7HY",
        "colab_type": "code",
        "colab": {
          "base_uri": "https://localhost:8080/",
          "height": 1927
        },
        "outputId": "3ffe026b-6797-459e-b44c-2530a76d5de0"
      },
      "source": [
        "epochs = 55\n",
        "print_every = 10\n",
        "\n",
        "counter = []\n",
        "history = []\n",
        "iteration = 0\n",
        "best = 0\n",
        "\n",
        "for epoch in range(epochs):\n",
        "  for i, batch in enumerate(trainloader, 0):\n",
        "    x1, x2, label = batch\n",
        "    x1, x2, label = x1.to(device), x2.to(device), label.to(device)\n",
        "    optimizer.zero_grad()\n",
        "    \n",
        "    out1, out2 = model.forward(x1, x2)\n",
        "    loss = constrastiveLoss(out1, out2, label)\n",
        "    loss.backward()\n",
        "    optimizer.step()\n",
        "    if i % print_every == 0:\n",
        "      print(\"Epoch: {} loss: {}\".format(epoch+1, loss.item()))\n",
        "      iteration += print_every\n",
        "      counter.append(iteration)\n",
        "      history.append(loss.item())\n",
        "      if best < loss.item():\n",
        "        torch.save(model.state_dict(), \"./siamese-pytorch.pth\")\n",
        "        best = loss.item()"
      ],
      "execution_count": 181,
      "outputs": [
        {
          "output_type": "stream",
          "text": [
            "Epoch: 1 loss: 1.8741822242736816\n",
            "Epoch: 1 loss: 1.7466685771942139\n",
            "Epoch: 2 loss: 1.622222661972046\n",
            "Epoch: 2 loss: 2.11773419380188\n",
            "Epoch: 3 loss: 2.1154356002807617\n",
            "Epoch: 3 loss: 1.7325141429901123\n",
            "Epoch: 4 loss: 1.481534481048584\n",
            "Epoch: 4 loss: 2.202728748321533\n",
            "Epoch: 5 loss: 1.9305708408355713\n",
            "Epoch: 5 loss: 1.8290053606033325\n",
            "Epoch: 6 loss: 1.9744677543640137\n",
            "Epoch: 6 loss: 1.464426040649414\n",
            "Epoch: 7 loss: 1.7787457704544067\n",
            "Epoch: 7 loss: 1.598068118095398\n",
            "Epoch: 8 loss: 1.6526868343353271\n",
            "Epoch: 8 loss: 2.241611957550049\n",
            "Epoch: 9 loss: 1.0851812362670898\n",
            "Epoch: 9 loss: 1.9378424882888794\n",
            "Epoch: 10 loss: 1.454573154449463\n",
            "Epoch: 10 loss: 1.8131468296051025\n",
            "Epoch: 11 loss: 1.9364237785339355\n",
            "Epoch: 11 loss: 1.4173065423965454\n",
            "Epoch: 12 loss: 1.0049057006835938\n",
            "Epoch: 12 loss: 1.2622613906860352\n",
            "Epoch: 13 loss: 1.3387292623519897\n",
            "Epoch: 13 loss: 1.6488940715789795\n",
            "Epoch: 14 loss: 1.4446468353271484\n",
            "Epoch: 14 loss: 1.290543794631958\n",
            "Epoch: 15 loss: 1.5395368337631226\n",
            "Epoch: 15 loss: 1.9496243000030518\n",
            "Epoch: 16 loss: 1.7494488954544067\n",
            "Epoch: 16 loss: 1.3858983516693115\n",
            "Epoch: 17 loss: 1.1676580905914307\n",
            "Epoch: 17 loss: 1.2084429264068604\n",
            "Epoch: 18 loss: 1.597000002861023\n",
            "Epoch: 18 loss: 1.2739185094833374\n",
            "Epoch: 19 loss: 1.2580132484436035\n",
            "Epoch: 19 loss: 1.4372190237045288\n",
            "Epoch: 20 loss: 1.618133783340454\n",
            "Epoch: 20 loss: 1.46076238155365\n",
            "Epoch: 21 loss: 1.2833857536315918\n",
            "Epoch: 21 loss: 1.3535797595977783\n",
            "Epoch: 22 loss: 1.5761927366256714\n",
            "Epoch: 22 loss: 1.169600486755371\n",
            "Epoch: 23 loss: 1.708035945892334\n",
            "Epoch: 23 loss: 1.5422141551971436\n",
            "Epoch: 24 loss: 1.5055341720581055\n",
            "Epoch: 24 loss: 1.3852595090866089\n",
            "Epoch: 25 loss: 1.4590951204299927\n",
            "Epoch: 25 loss: 1.366642951965332\n",
            "Epoch: 26 loss: 1.2651934623718262\n",
            "Epoch: 26 loss: 1.5276057720184326\n",
            "Epoch: 27 loss: 1.3598437309265137\n",
            "Epoch: 27 loss: 1.5770139694213867\n",
            "Epoch: 28 loss: 1.5678117275238037\n",
            "Epoch: 28 loss: 1.3479397296905518\n",
            "Epoch: 29 loss: 1.384634256362915\n",
            "Epoch: 29 loss: 1.4249926805496216\n",
            "Epoch: 30 loss: 1.5126181840896606\n",
            "Epoch: 30 loss: 1.0897297859191895\n",
            "Epoch: 31 loss: 1.4276726245880127\n",
            "Epoch: 31 loss: 1.2568330764770508\n",
            "Epoch: 32 loss: 1.81699538230896\n",
            "Epoch: 32 loss: 1.4998782873153687\n",
            "Epoch: 33 loss: 1.474806547164917\n",
            "Epoch: 33 loss: 1.3591327667236328\n",
            "Epoch: 34 loss: 1.8724998235702515\n",
            "Epoch: 34 loss: 1.1934285163879395\n",
            "Epoch: 35 loss: 1.103745698928833\n",
            "Epoch: 35 loss: 1.3814120292663574\n",
            "Epoch: 36 loss: 1.3722459077835083\n",
            "Epoch: 36 loss: 1.159958839416504\n",
            "Epoch: 37 loss: 1.5871391296386719\n",
            "Epoch: 37 loss: 1.481053113937378\n",
            "Epoch: 38 loss: 1.2676857709884644\n",
            "Epoch: 38 loss: 1.5406014919281006\n",
            "Epoch: 39 loss: 1.7300798892974854\n",
            "Epoch: 39 loss: 1.3595577478408813\n",
            "Epoch: 40 loss: 1.6498587131500244\n",
            "Epoch: 40 loss: 1.617776870727539\n",
            "Epoch: 41 loss: 1.3053114414215088\n",
            "Epoch: 41 loss: 1.3746600151062012\n",
            "Epoch: 42 loss: 1.328070044517517\n",
            "Epoch: 42 loss: 1.3420573472976685\n",
            "Epoch: 43 loss: 1.1953437328338623\n",
            "Epoch: 43 loss: 0.9113287925720215\n",
            "Epoch: 44 loss: 1.4114162921905518\n",
            "Epoch: 44 loss: 1.494612216949463\n",
            "Epoch: 45 loss: 1.3357875347137451\n",
            "Epoch: 45 loss: 1.580443024635315\n",
            "Epoch: 46 loss: 1.1560776233673096\n",
            "Epoch: 46 loss: 1.6598743200302124\n",
            "Epoch: 47 loss: 1.591890811920166\n",
            "Epoch: 47 loss: 1.469203233718872\n",
            "Epoch: 48 loss: 1.220848560333252\n",
            "Epoch: 48 loss: 1.4882299900054932\n",
            "Epoch: 49 loss: 1.4442179203033447\n",
            "Epoch: 49 loss: 1.318580985069275\n",
            "Epoch: 50 loss: 1.5458595752716064\n",
            "Epoch: 50 loss: 1.130008339881897\n",
            "Epoch: 51 loss: 1.5258283615112305\n",
            "Epoch: 51 loss: 1.307752251625061\n",
            "Epoch: 52 loss: 1.4698095321655273\n",
            "Epoch: 52 loss: 1.204726219177246\n",
            "Epoch: 53 loss: 1.5062788724899292\n",
            "Epoch: 53 loss: 1.525641918182373\n",
            "Epoch: 54 loss: 1.5470033884048462\n",
            "Epoch: 54 loss: 1.621004343032837\n",
            "Epoch: 55 loss: 1.2477262020111084\n",
            "Epoch: 55 loss: 1.3329943418502808\n"
          ],
          "name": "stdout"
        }
      ]
    },
    {
      "cell_type": "code",
      "metadata": {
        "id": "FwF6Iw3_ssxZ",
        "colab_type": "code",
        "outputId": "43b0d123-1055-4ef0-c64d-a629072543f9",
        "colab": {
          "base_uri": "https://localhost:8080/",
          "height": 269
        }
      },
      "source": [
        "plt.plot(counter, history)\n",
        "plt.show()"
      ],
      "execution_count": 182,
      "outputs": [
        {
          "output_type": "display_data",
          "data": {
            "image/png": "[encoded data removed]",
            "text/plain": [
              "<Figure size 432x288 with 1 Axes>"
            ]
          },
          "metadata": {
            "tags": []
          }
        }
      ]
    },
    {
      "cell_type": "markdown",
      "metadata": {
        "id": "v0XN19zYY1Of",
        "colab_type": "text"
      },
      "source": [
        "## Save and test model"
      ]
    },
    {
      "cell_type": "code",
      "metadata": {
        "id": "DL28UfEmZLTs",
        "colab_type": "code",
        "colab": {}
      },
      "source": [
        "torch.save(model.state_dict(), \"face-recogn.pth\")"
      ],
      "execution_count": 0,
      "outputs": []
    },
    {
      "cell_type": "code",
      "metadata": {
        "id": "iA6DsWe63l5-",
        "colab_type": "code",
        "colab": {
          "base_uri": "https://localhost:8080/",
          "height": 34
        },
        "outputId": "aa9b585c-2b3e-44b3-c161-f860ce19fce3"
      },
      "source": [
        "model.eval()\n",
        "\n",
        "# Same as above just changed the if \n",
        "def imgs_with_id(src):\n",
        "  data = []\n",
        "  imgs = 0\n",
        "  for path, subdir, files in os.walk(src):\n",
        "    for file in files:\n",
        "      #if path[10:16] == \"_S4_C2\":\n",
        "      if int(path[-2:]) > 37:\n",
        "        if file[-3:] == \"pgm\":\n",
        "          data.append((os.path.join(path, file), path[-2:]))\n",
        "          imgs += 1\n",
        "  return data, imgs \n",
        "\n",
        "\n",
        "def imshow(img,text=None,should_save=False):\n",
        "    npimg = img.numpy()\n",
        "    plt.axis(\"off\")\n",
        "    if text:\n",
        "        plt.text(75, 8, text, style='italic',fontweight='bold',\n",
        "            bbox={'facecolor':'white', 'alpha':0.8, 'pad':10})\n",
        "    plt.imshow(np.transpose(npimg, (1, 2, 0)))\n",
        "    plt.show() \n",
        "    \n",
        "testdata, total = imgs_with_id(\"data/\")\n",
        "print(\"Example: img \", testdata[0][0], \" subject id \", testdata[0][1], \" total imgs \", total)"
      ],
      "execution_count": 183,
      "outputs": [
        {
          "output_type": "stream",
          "text": [
            "Example: img  data/s38/8.pgm  subject id  38  total imgs  30\n"
          ],
          "name": "stdout"
        }
      ]
    },
    {
      "cell_type": "code",
      "metadata": {
        "id": "5_btJpcEyKDA",
        "colab_type": "code",
        "outputId": "142c1979-cc39-41cb-c9d5-cbf0d80af8ee",
        "colab": {
          "base_uri": "https://localhost:8080/",
          "height": 52
        }
      },
      "source": [
        "dataset = ChokePoint(testdata, transform=transforms.Compose([transforms.Resize((105, 105)),\n",
        "                                                             transforms.ToTensor()]))\n",
        "                     \n",
        "testloader = torch.utils.data.DataLoader(dataset, shuffle=True, num_workers=8, batch_size=1)\n",
        "\n",
        "it = iter(testloader)\n",
        "#x1, _, _ = next(it)\n",
        "\n",
        "acc = 0\n",
        "total = 0\n",
        "  \n",
        "for i in range(len(testloader)):\n",
        "  x1, x2, label = next(it)\n",
        "  concatenated = torch.cat((x1, x2), 0)\n",
        "                     \n",
        "  out1, out2 = model(x1.to(device), x2.to(device))\n",
        "  euc_dst = F.pairwise_distance(out1, out2)\n",
        "  \n",
        "  same = 0\n",
        "  if euc_dst < 0.5:\n",
        "    same = 1\n",
        "    \n",
        "  if same == int(label.numpy()):\n",
        "    acc+=1\n",
        "    \n",
        "  total += 1\n",
        "  #imshow(torchvision.utils.make_grid(concatenated), \"Dissimilarity: {:2f}, Same: {}, Label: {}\". format(euc_dst.item(), same, label))\n",
        "  \n",
        "  \n",
        "print(acc, \" \",total)\n",
        "print(\"Accuracy: \", acc/total)\n",
        "\n",
        "    \n",
        "#imshow(torchvision.utils.make_grid(concatenated), \"Dissimilarity: {:2f}, Same: {}, Label: {}\". format(euc_dst.item(), same, label))\n"
      ],
      "execution_count": 184,
      "outputs": [
        {
          "output_type": "stream",
          "text": [
            "24   30\n",
            "Accuracy:  0.8\n"
          ],
          "name": "stdout"
        }
      ]
    },
    {
      "cell_type": "code",
      "metadata": {
        "id": "H5NPaNrd32M-",
        "colab_type": "code",
        "colab": {}
      },
      "source": [
        ""
      ],
      "execution_count": 0,
      "outputs": []
    }
  ]
}